{
 "cells": [
  {
   "cell_type": "code",
   "execution_count": 1,
   "metadata": {},
   "outputs": [
    {
     "name": "stdout",
     "output_type": "stream",
     "text": [
      "Jupyter environment detected. Enabling Open3D WebVisualizer.\n",
      "[Open3D INFO] WebRTC GUI backend enabled.\n",
      "[Open3D INFO] WebRTCWindowSystem: HTTP handshake server disabled.\n"
     ]
    }
   ],
   "source": [
    "import pybullet as p\n",
    "import open3d as o3d \n",
    "import pybullet_data\n",
    "\n"
   ]
  },
  {
   "cell_type": "code",
   "execution_count": 2,
   "metadata": {},
   "outputs": [
    {
     "data": {
      "text/plain": [
       "True"
      ]
     },
     "execution_count": 2,
     "metadata": {},
     "output_type": "execute_result"
    }
   ],
   "source": [
    "\n",
    "pcd_file = \"C:/Users/ali49/OneDrive/Documents/Python Scripts/PyTutorials/PyTutorials/Point Cloud/girishpointcloud.ply\"\n",
    "pcd = o3d.io.read_point_cloud(pcd_file)\n",
    "pcd.estimate_normals()\n",
    "\n",
    "mesh, densities = o3d.geometry.TriangleMesh.create_from_point_cloud_poisson(\n",
    "    pcd, depth=10, width=0, scale=1.1, linear_fit=True)\n",
    "\n",
    "\n",
    "o3d.io.write_triangle_mesh(\"mesh.ply\", mesh)\n",
    "\n",
    "mesh, _ = o3d.geometry.TriangleMesh.create_from_point_cloud_poisson(pcd)\n",
    "obj_file = \"C:/Users/ali49/OneDrive/Documents/Python Scripts/PyTutorials/PyTutorials/Point Cloud/girishpointcloud.obj\"\n",
    "output_file = \"C:/Users/ali49/OneDrive/Documents/Python Scripts/PyTutorials/PyTutorials/Point Cloud/girishpointcloud.urdf\"\n",
    "o3d.io.write_triangle_mesh(obj_file, mesh, write_ascii=True)\n",
    "\n"
   ]
  },
  {
   "cell_type": "code",
   "execution_count": 3,
   "metadata": {},
   "outputs": [],
   "source": [
    "def load():\n",
    "    p.connect(p.GUI)\n",
    "    p.setAdditionalSearchPath(pybullet_data.getDataPath())\n",
    "\n",
    "    p.loadURDF(output_file)\n",
    "    p.loadURDF(\"plane.urdf\")\n",
    "    # p.loadURDF(\"r2d2.urdf\")\n",
    "   \n",
    "    p.setGravity(0, 0, -9.81)\n",
    "    p.setTimeStep(1.0/100.0)\n",
    "\n",
    "\n",
    "  \n",
    "        \n",
    "        \n",
    "     \n"
   ]
  },
  {
   "cell_type": "code",
   "execution_count": 4,
   "metadata": {},
   "outputs": [
    {
     "ename": "error",
     "evalue": "Not connected to physics server.",
     "output_type": "error",
     "traceback": [
      "\u001b[1;31m---------------------------------------------------------------------------\u001b[0m",
      "\u001b[1;31merror\u001b[0m                                     Traceback (most recent call last)",
      "Cell \u001b[1;32mIn[4], line 3\u001b[0m\n\u001b[0;32m      1\u001b[0m load()\n\u001b[0;32m      2\u001b[0m \u001b[39mwhile\u001b[39;00m \u001b[39mTrue\u001b[39;00m:\n\u001b[1;32m----> 3\u001b[0m     p\u001b[39m.\u001b[39;49mstepSimulation()\n",
      "\u001b[1;31merror\u001b[0m: Not connected to physics server."
     ]
    }
   ],
   "source": [
    "load()\n",
    "while True:\n",
    "    p.stepSimulation()"
   ]
  }
 ],
 "metadata": {
  "kernelspec": {
   "display_name": "env",
   "language": "python",
   "name": "python3"
  },
  "language_info": {
   "codemirror_mode": {
    "name": "ipython",
    "version": 3
   },
   "file_extension": ".py",
   "mimetype": "text/x-python",
   "name": "python",
   "nbconvert_exporter": "python",
   "pygments_lexer": "ipython3",
   "version": "3.8.3"
  },
  "orig_nbformat": 4,
  "vscode": {
   "interpreter": {
    "hash": "ef7b713d108ecf91b9e213161e26d30e5db244be8b1c57f9895ae80d119e6961"
   }
  }
 },
 "nbformat": 4,
 "nbformat_minor": 2
}
